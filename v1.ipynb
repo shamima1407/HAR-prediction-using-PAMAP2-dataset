{
 "cells": [
  {
   "attachments": {},
   "cell_type": "markdown",
   "metadata": {},
   "source": [
    "# Project: Predict HAR using PAMAP2 Dataset"
   ]
  },
  {
   "attachments": {},
   "cell_type": "markdown",
   "metadata": {},
   "source": [
    "## Sample Code:"
   ]
  },
  {
   "cell_type": "code",
   "execution_count": null,
   "metadata": {},
   "outputs": [],
   "source": [
    "import pandas as pd\n",
    "import numpy as np\n",
    "from sklearn.metrics import confusion_matrix, classification_report\n",
    "from keras.models import Sequential\n",
    "from keras.layers import LSTM, Dense, Dropout\n",
    "\n",
    "# Load the PAMAP2 dataset\n",
    "df = pd.read_csv('data/PAMAP2_Dataset.csv')\n",
    "\n",
    "# Data Exploration\n",
    "print(df.head())\n",
    "print(df.describe())\n",
    "\n",
    "# Normalize sensor values\n",
    "df[['temperature', 'heart_rate', 'activity']] = df[['temperature', 'heart_rate', 'activity']].apply(lambda x: (x - x.min()) / (x.max() - x.min()))\n",
    "\n",
    "# Split the dataset into training and test sets\n",
    "train_df = df.sample(frac=0.8, random_state=1)\n",
    "test_df = df.drop(train_df.index)\n",
    "\n",
    "# Extract input and output data from the DataFrame\n",
    "X_train = train_df.drop(['activity'], axis=1)\n",
    "y_train = train_df['activity']\n",
    "X_test = test_df.drop(['activity'], axis=1)\n",
    "y_test = test_df['activity']\n",
    "\n",
    "# Define the model architecture\n",
    "timesteps = X_train.shape[1]\n",
    "input_dim = 1\n",
    "n_classes = len(np.unique(y_train))\n",
    "model = Sequential()\n",
    "model.add(LSTM(32, input_shape=(timesteps, input_dim)))\n",
    "model.add(Dense(n_classes, activation='softmax'))\n",
    "\n",
    "# Compile the model\n",
    "model.compile(optimizer='adam', loss='categorical_crossentropy', metrics=['accuracy'])\n",
    "\n",
    "# Train the model\n",
    "batch_size = 32\n",
    "epochs = 50\n",
    "model.fit(X_train, y_train, batch_size=batch_size, epochs=epochs)\n",
    "\n",
    "# Evaluate the model\n",
    "score = model.evaluate(X_test, y_test, batch_size=batch_size)\n",
    "print(\"Accuracy: \", score[1])\n",
    "\n",
    "# Predict on test data\n",
    "y_pred = model.predict(X_test)\n",
    "\n",
    "# Convert predicted probability to class\n",
    "y_pred = np.argmax(y_pred, axis=1)\n",
    "\n",
    "# Convert true labels to class\n",
    "y_test = np.argmax(y_test, axis=1)\n",
    "\n",
    "# Compute confusion matrix\n",
    "cm = confusion_matrix(y_test, y_pred)\n",
    "print(\"Confusion Matrix: \\n\", cm)\n",
    "\n",
    "# Compute classification report\n",
    "cr = classification_report(y_test, y_pred)\n",
    "print(\"Classification Report: \\n\", cr)\n",
    "\n",
    "\n",
    "\n",
    "\n"
   ]
  }
 ],
 "metadata": {
  "kernelspec": {
   "display_name": "Python 3",
   "language": "python",
   "name": "python3"
  },
  "language_info": {
   "name": "python",
   "version": "3.10.8 (tags/v3.10.8:aaaf517, Oct 11 2022, 16:50:30) [MSC v.1933 64 bit (AMD64)]"
  },
  "orig_nbformat": 4,
  "vscode": {
   "interpreter": {
    "hash": "54a97a0fbc56a6bb929e10541f2d402cd83dcce5272985c7b44f056d8198dd01"
   }
  }
 },
 "nbformat": 4,
 "nbformat_minor": 2
}
